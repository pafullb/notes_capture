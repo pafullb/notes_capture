{
 "cells": [
  {
   "cell_type": "code",
   "execution_count": 1,
   "id": "ccfa23e3",
   "metadata": {},
   "outputs": [],
   "source": [
    "import pandas as pd"
   ]
  },
  {
   "cell_type": "code",
   "execution_count": 28,
   "id": "ef475a66",
   "metadata": {},
   "outputs": [],
   "source": [
    "df = pd.read_csv(\"dataset.txt\",sep = \"\\t\")"
   ]
  },
  {
   "cell_type": "code",
   "execution_count": 29,
   "id": "9ad25d45",
   "metadata": {},
   "outputs": [],
   "source": [
    "df[\"label\"]=df.iloc[:,0] "
   ]
  },
  {
   "cell_type": "code",
   "execution_count": 30,
   "id": "227505e6",
   "metadata": {},
   "outputs": [],
   "source": [
    "df[\"text\"]=df.iloc[:,1]"
   ]
  },
  {
   "cell_type": "code",
   "execution_count": 33,
   "id": "12dd086b",
   "metadata": {},
   "outputs": [],
   "source": [
    "df2=df.iloc[:,2:4]"
   ]
  },
  {
   "cell_type": "code",
   "execution_count": 35,
   "id": "6e099226",
   "metadata": {},
   "outputs": [
    {
     "data": {
      "text/html": [
       "<div>\n",
       "<style scoped>\n",
       "    .dataframe tbody tr th:only-of-type {\n",
       "        vertical-align: middle;\n",
       "    }\n",
       "\n",
       "    .dataframe tbody tr th {\n",
       "        vertical-align: top;\n",
       "    }\n",
       "\n",
       "    .dataframe thead th {\n",
       "        text-align: right;\n",
       "    }\n",
       "</style>\n",
       "<table border=\"1\" class=\"dataframe\">\n",
       "  <thead>\n",
       "    <tr style=\"text-align: right;\">\n",
       "      <th></th>\n",
       "      <th>label</th>\n",
       "      <th>text</th>\n",
       "    </tr>\n",
       "  </thead>\n",
       "  <tbody>\n",
       "    <tr>\n",
       "      <th>0</th>\n",
       "      <td>ACTION</td>\n",
       "      <td>Add more to your score by stopping in and pick...</td>\n",
       "    </tr>\n",
       "    <tr>\n",
       "      <th>1</th>\n",
       "      <td>ACTION</td>\n",
       "      <td>Add O'neal Winfee and George Smith to the atte...</td>\n",
       "    </tr>\n",
       "    <tr>\n",
       "      <th>2</th>\n",
       "      <td>ACTION</td>\n",
       "      <td>Additionally, send me the payment schedule for...</td>\n",
       "    </tr>\n",
       "    <tr>\n",
       "      <th>3</th>\n",
       "      <td>ACTION</td>\n",
       "      <td>Adjust our purchase amount from each party bas...</td>\n",
       "    </tr>\n",
       "    <tr>\n",
       "      <th>4</th>\n",
       "      <td>ACTION</td>\n",
       "      <td>After the next meeting, let me know on the tim...</td>\n",
       "    </tr>\n",
       "    <tr>\n",
       "      <th>...</th>\n",
       "      <td>...</td>\n",
       "      <td>...</td>\n",
       "    </tr>\n",
       "    <tr>\n",
       "      <th>2596</th>\n",
       "      <td>NORMAL</td>\n",
       "      <td>But the prospect of Britain leaving the econom...</td>\n",
       "    </tr>\n",
       "    <tr>\n",
       "      <th>2597</th>\n",
       "      <td>NORMAL</td>\n",
       "      <td>You have reached your limit for free articles ...</td>\n",
       "    </tr>\n",
       "    <tr>\n",
       "      <th>2598</th>\n",
       "      <td>NORMAL</td>\n",
       "      <td>Register to The Hindu for free and get unlimit...</td>\n",
       "    </tr>\n",
       "    <tr>\n",
       "      <th>2599</th>\n",
       "      <td>NORMAL</td>\n",
       "      <td>New Delhi: Nationalist Congress Party (NCP) sp...</td>\n",
       "    </tr>\n",
       "    <tr>\n",
       "      <th>2600</th>\n",
       "      <td>NORMAL</td>\n",
       "      <td>Crasto on Tuesday posted a cartoon in which he...</td>\n",
       "    </tr>\n",
       "  </tbody>\n",
       "</table>\n",
       "<p>2601 rows × 2 columns</p>\n",
       "</div>"
      ],
      "text/plain": [
       "       label                                               text\n",
       "0     ACTION  Add more to your score by stopping in and pick...\n",
       "1     ACTION  Add O'neal Winfee and George Smith to the atte...\n",
       "2     ACTION  Additionally, send me the payment schedule for...\n",
       "3     ACTION  Adjust our purchase amount from each party bas...\n",
       "4     ACTION  After the next meeting, let me know on the tim...\n",
       "...      ...                                                ...\n",
       "2596  NORMAL  But the prospect of Britain leaving the econom...\n",
       "2597  NORMAL  You have reached your limit for free articles ...\n",
       "2598  NORMAL  Register to The Hindu for free and get unlimit...\n",
       "2599  NORMAL  New Delhi: Nationalist Congress Party (NCP) sp...\n",
       "2600  NORMAL  Crasto on Tuesday posted a cartoon in which he...\n",
       "\n",
       "[2601 rows x 2 columns]"
      ]
     },
     "execution_count": 35,
     "metadata": {},
     "output_type": "execute_result"
    }
   ],
   "source": [
    "df2"
   ]
  },
  {
   "cell_type": "code",
   "execution_count": 37,
   "id": "6d2eb10c",
   "metadata": {},
   "outputs": [
    {
     "data": {
      "text/plain": [
       "NORMAL    1352\n",
       "ACTION    1249\n",
       "Name: label, dtype: int64"
      ]
     },
     "execution_count": 37,
     "metadata": {},
     "output_type": "execute_result"
    }
   ],
   "source": [
    "df2.label.value_counts()"
   ]
  },
  {
   "cell_type": "code",
   "execution_count": 38,
   "id": "881f20da",
   "metadata": {},
   "outputs": [],
   "source": [
    "df2.to_csv(\"dataset.csv\",index=False)"
   ]
  },
  {
   "cell_type": "code",
   "execution_count": null,
   "id": "9a29f0c6",
   "metadata": {},
   "outputs": [],
   "source": []
  }
 ],
 "metadata": {
  "kernelspec": {
   "display_name": "Python 3 (ipykernel)",
   "language": "python",
   "name": "python3"
  },
  "language_info": {
   "codemirror_mode": {
    "name": "ipython",
    "version": 3
   },
   "file_extension": ".py",
   "mimetype": "text/x-python",
   "name": "python",
   "nbconvert_exporter": "python",
   "pygments_lexer": "ipython3",
   "version": "3.8.10"
  }
 },
 "nbformat": 4,
 "nbformat_minor": 5
}
