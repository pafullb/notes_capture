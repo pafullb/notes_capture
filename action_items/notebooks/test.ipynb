{
 "cells": [
  {
   "cell_type": "code",
   "execution_count": 1,
   "id": "1bb45e51",
   "metadata": {},
   "outputs": [],
   "source": [
    "import pandas as pd\n",
    "import numpy as np\n",
    "import seaborn as sns\n",
    "import matplotlib.pyplot as plt\n",
    "\n",
    "from sklearn.model_selection import train_test_split\n",
    "from sklearn.metrics import confusion_matrix,classification_report\n",
    "# Import and evaluate each test batch using Matthew's correlation coefficient\n",
    "from sklearn.metrics import accuracy_score,matthews_corrcoef\n",
    "\n",
    "import random\n",
    "import os\n",
    "import io\n",
    "\n",
    "from torch import nn\n",
    "import torch\n",
    "from torch.utils.data import TensorDataset, DataLoader, RandomSampler, SequentialSampler\n",
    "import torch.nn.functional as F\n",
    "from transformers import (DistilBertTokenizer, BertConfig, AdamW, BertForSequenceClassification,\n",
    "                          DistilBertConfig,\n",
    "                          get_linear_schedule_with_warmup, DistilBertForSequenceClassification)"
   ]
  },
  {
   "cell_type": "code",
   "execution_count": 2,
   "id": "41f0abbd",
   "metadata": {},
   "outputs": [],
   "source": [
    "from torch.optim import Adam"
   ]
  },
  {
   "cell_type": "code",
   "execution_count": 3,
   "id": "0edea2a5",
   "metadata": {},
   "outputs": [],
   "source": [
    "# identify and specify the GPU as the device, later in training loop we will load data into device\n",
    "device = torch.device(\"cuda\" if torch.cuda.is_available() else \"cpu\")\n",
    "#n_gpu = torch.cuda.device_count()\n",
    "#torch.cuda.get_device_name(0)\n",
    "\n",
    "SEED = 19\n",
    "MAX_LEN = 128\n",
    "batch_size = 1\n",
    "\n",
    "random.seed(SEED)\n",
    "np.random.seed(SEED)\n",
    "torch.manual_seed(SEED)\n",
    "if device == torch.device(\"cuda\"):\n",
    "    torch.cuda.manual_seed_all(SEED)"
   ]
  },
  {
   "cell_type": "code",
   "execution_count": 4,
   "id": "711e08e6",
   "metadata": {},
   "outputs": [],
   "source": [
    "tokenizer = DistilBertTokenizer.from_pretrained('distilbert-base-uncased', do_lower_case=True)"
   ]
  },
  {
   "cell_type": "code",
   "execution_count": 5,
   "id": "1b73ea9f",
   "metadata": {},
   "outputs": [],
   "source": [
    "class Dataset(torch.utils.data.Dataset):\n",
    "\n",
    "    def __init__(self, df):\n",
    "        try:\n",
    "            self.texts = [tokenizer(text, \n",
    "                                   padding='max_length', max_length = MAX_LEN, truncation=True,\n",
    "                                    return_tensors=\"pt\") for text in df[\"text\"]]\n",
    "\n",
    "        except:\n",
    "        ###  ---- ONLY FOR TESTING -----\n",
    "\n",
    "            self.texts = [tokenizer(df, \n",
    "                                   padding='max_length', max_length = MAX_LEN, truncation=True,\n",
    "                                    return_tensors=\"pt\")]\n",
    "\n",
    "    # def classes(self):\n",
    "    #     return self.labels\n",
    "\n",
    "    def __len__(self):\n",
    "        return len(self.texts)\n",
    "\n",
    "    # def get_batch_labels(self, idx):\n",
    "    #     # Fetch a batch of labels\n",
    "    #     return np.array(self.labels[idx])\n",
    "\n",
    "    def get_batch_texts(self, idx):\n",
    "        # Fetch a batch of inputs\n",
    "        return self.texts[idx]\n",
    "\n",
    "    def __getitem__(self, idx):\n",
    "\n",
    "        batch_texts = self.get_batch_texts(idx)\n",
    "        # batch_y = self.get_batch_labels(idx)\n",
    "\n",
    "        return batch_texts#, batch_y"
   ]
  },
  {
   "cell_type": "code",
   "execution_count": 6,
   "id": "5b18be20",
   "metadata": {},
   "outputs": [],
   "source": [
    "class BertClassifier(nn.Module):\n",
    "\n",
    "    def __init__(self, dropout=0.5):\n",
    "        \n",
    "        super(BertClassifier, self).__init__()\n",
    "        self.bert = DistilBertForSequenceClassification.from_pretrained(\"distilbert-base-uncased\",num_labels=768)\n",
    "        self.dropout = nn.Dropout(dropout)\n",
    "        self.linear = nn.Linear(768, 2)\n",
    "        self.relu = nn.ReLU()\n",
    "#         self.sigmoid = nn.Sigmoid()\n",
    "\n",
    "    def forward(self, input_id, mask):\n",
    "\n",
    "        pooled_output = self.bert(input_ids= input_id, attention_mask=mask).logits\n",
    "        dropout_output = self.dropout(pooled_output)\n",
    "        linear_output = self.linear(dropout_output)\n",
    "        final_layer = self.relu(linear_output)\n",
    "#         final_layer_1 = self.sigmoid(final_layer)\n",
    "\n",
    "        return final_layer"
   ]
  },
  {
   "cell_type": "code",
   "execution_count": 7,
   "id": "b940dd78",
   "metadata": {},
   "outputs": [
    {
     "name": "stderr",
     "output_type": "stream",
     "text": [
      "Some weights of the model checkpoint at distilbert-base-uncased were not used when initializing DistilBertForSequenceClassification: ['vocab_projector.bias', 'vocab_transform.bias', 'vocab_transform.weight', 'vocab_projector.weight', 'vocab_layer_norm.bias', 'vocab_layer_norm.weight']\n",
      "- This IS expected if you are initializing DistilBertForSequenceClassification from the checkpoint of a model trained on another task or with another architecture (e.g. initializing a BertForSequenceClassification model from a BertForPreTraining model).\n",
      "- This IS NOT expected if you are initializing DistilBertForSequenceClassification from the checkpoint of a model that you expect to be exactly identical (initializing a BertForSequenceClassification model from a BertForSequenceClassification model).\n",
      "Some weights of DistilBertForSequenceClassification were not initialized from the model checkpoint at distilbert-base-uncased and are newly initialized: ['pre_classifier.bias', 'classifier.bias', 'pre_classifier.weight', 'classifier.weight']\n",
      "You should probably TRAIN this model on a down-stream task to be able to use it for predictions and inference.\n"
     ]
    }
   ],
   "source": [
    "model = BertClassifier()"
   ]
  },
  {
   "cell_type": "code",
   "execution_count": 8,
   "id": "55765125",
   "metadata": {},
   "outputs": [],
   "source": [
    "df = pd.read_csv(\"testing.csv\")\n",
    "# text = df[\"Sub-issue\"]"
   ]
  },
  {
   "cell_type": "code",
   "execution_count": 9,
   "id": "d7b05d25",
   "metadata": {},
   "outputs": [],
   "source": [
    "# text"
   ]
  },
  {
   "cell_type": "code",
   "execution_count": 10,
   "id": "9fab6dc3",
   "metadata": {},
   "outputs": [],
   "source": [
    "class predict_empathy:\n",
    "\n",
    "    def __init__(self):\n",
    "        try:\n",
    "            self.model = BertClassifier()\n",
    "            checkpoint = torch.load('distil_action_item.pth', map_location='cpu')\n",
    "            # print(checkpoint['model_state_dict'])\n",
    "            \n",
    "            self.model.load_state_dict(checkpoint['model_state_dict'])\n",
    "        except Exception as e:\n",
    "            print(\"cannnot initilize model\")\n",
    "            raise e\n",
    "\n",
    "    def predict(self, test_data):\n",
    "        try:\n",
    "            predictions = []\n",
    "            probability = []\n",
    "            df_test = test_data\n",
    "#             print(type(test_data))\n",
    "            if os.path.exists(test_data):\n",
    "                df_test = pd.read_csv(test_data)\n",
    "#                 df_test = df_test[:1000][\"Sub-issue\"].dropna()\n",
    "#                 print(df_test)\n",
    "#             ##test_ot = df_test.at[df_test.index[1],'response_post']\n",
    "\n",
    "            test = Dataset(df_test)\n",
    "\n",
    "            test_dataloader = torch.utils.data.DataLoader(\n",
    "                test, batch_size=batch_size)\n",
    "\n",
    "            use_cuda = torch.cuda.is_available()\n",
    "            device = torch.device(\"cuda\" if use_cuda else \"cpu\")\n",
    "#             print(device)\n",
    "            if use_cuda:\n",
    "\n",
    "                self.model = self.model.cuda()\n",
    "\n",
    "            with torch.no_grad():\n",
    "\n",
    "                for test_input in test_dataloader:\n",
    "\n",
    "                    # test_label = test_label.to(device)\n",
    "                    mask = test_input['attention_mask'].to(device)\n",
    "                    input_id = test_input['input_ids'].squeeze(1).to(device)\n",
    "\n",
    "                    output = self.model(input_id, mask)\n",
    "                    probability.append(str(output))\n",
    "\n",
    "#                     print(\"print output 1>>>>\",output)\n",
    "                    output1 = output.argmax(dim=1)\n",
    "#                     print(\"print output 2>>>>\",output)\n",
    "\n",
    "                    if output1 == 1:\n",
    "                        # print(1)\n",
    "                        output1 = 1\n",
    "                \n",
    "#                         if output[0][1]>4:\n",
    "#                             output1 = 1#'Empathy'\n",
    "#                         else:\n",
    "#                             # print(0)\n",
    "#                             output1 = 0#'Not Empathy'\n",
    "                    else:\n",
    "                        # print(0)\n",
    "                        output1 = 0#'Not Empathy'\n",
    "                    predictions.append(output1)\n",
    "            if os.path.exists(test_data):\n",
    "                df_test['pred'] = predictions\n",
    "                df_test['probability'] = probability\n",
    "#                 df_test_2 = pd.DataFrame({\"text\":df_test,\"pred\":predictions,\"prob\":probability})\n",
    "\n",
    "                df_test.to_csv(test_data,index =False)\n",
    "\n",
    "            return predictions,probability\n",
    "\n",
    "        except Exception as e:\n",
    "            print(e)\n",
    "            raise e\n",
    "\n",
    "\n"
   ]
  },
  {
   "cell_type": "markdown",
   "id": "b1ed1eb8",
   "metadata": {},
   "source": [
    "if __name__ == \"__main__\":\n",
    "\n",
    "    input_text = [\"This is your local internet service provider.\",\"How may I help you?\",\"Today?\"\n",
    "                  ,\"I installed your internet service for my new home and its really slow.\"\n",
    "                 ,\"I can send it internet service technician to your home whenever you're free.\"\n",
    "                 ,\"Could you let me know what time works for you?\"\n",
    "                 ,\"I will finish my work by 5 PM so you could send a technician after.\"\n",
    "                 ,\"That, okay?\"\n",
    "                 ,\"I just need to follow up with the technician first.\"\n",
    "                 ,\"I will call you back in an hour to confirm your.\"\n",
    "                 ,\"Appointment.\"\n",
    "                 ,\"Okay\"\n",
    "                 ,\"Thank you for calling.\"\n",
    "                 ,\"Thank you.\"]\n",
    "    pred_obj = predict_empathy()\n",
    "    for i in input_text:\n",
    "        predictions,probability = pred_obj.predict(i)\n",
    "        print(i)\n",
    "        print(probability,predictions)"
   ]
  },
  {
   "cell_type": "markdown",
   "id": "d63d7027",
   "metadata": {},
   "source": [
    "if __name__ == \"__main__\":\n",
    "\n",
    "    input_text = [\"Please let me know if you want anything else\"]\n",
    "    pred_obj = predict_empathy()\n",
    "    for i in input_text:\n",
    "        predictions,probability = pred_obj.predict(i)\n",
    "        print(i)\n",
    "        print(probability,predictions)"
   ]
  },
  {
   "cell_type": "code",
   "execution_count": 11,
   "id": "b4d0d50b",
   "metadata": {},
   "outputs": [
    {
     "name": "stderr",
     "output_type": "stream",
     "text": [
      "Some weights of the model checkpoint at distilbert-base-uncased were not used when initializing DistilBertForSequenceClassification: ['vocab_projector.bias', 'vocab_transform.bias', 'vocab_transform.weight', 'vocab_projector.weight', 'vocab_layer_norm.bias', 'vocab_layer_norm.weight']\n",
      "- This IS expected if you are initializing DistilBertForSequenceClassification from the checkpoint of a model trained on another task or with another architecture (e.g. initializing a BertForSequenceClassification model from a BertForPreTraining model).\n",
      "- This IS NOT expected if you are initializing DistilBertForSequenceClassification from the checkpoint of a model that you expect to be exactly identical (initializing a BertForSequenceClassification model from a BertForSequenceClassification model).\n",
      "Some weights of DistilBertForSequenceClassification were not initialized from the model checkpoint at distilbert-base-uncased and are newly initialized: ['pre_classifier.bias', 'classifier.bias', 'pre_classifier.weight', 'classifier.weight']\n",
      "You should probably TRAIN this model on a down-stream task to be able to use it for predictions and inference.\n"
     ]
    }
   ],
   "source": [
    "if __name__ == \"__main__\":\n",
    "    pred_obj = predict_empathy()\n",
    "#     output_model = 'action_item.pth'\n",
    "#     test_data = r'D:\\F\\projects\\lakebrains\\nikhil_ai\\data\\empathybalaceddata_test.csv'\n",
    "    test_data = 'testing.csv'\n",
    "    predictions,probability = pred_obj.predict(test_data)\n",
    "#     print(predictions)"
   ]
  },
  {
   "cell_type": "code",
   "execution_count": null,
   "id": "569f8098",
   "metadata": {},
   "outputs": [],
   "source": []
  },
  {
   "cell_type": "code",
   "execution_count": 12,
   "id": "f5c5c4d2",
   "metadata": {},
   "outputs": [],
   "source": [
    "test = pd.read_csv(\"testing.csv\")"
   ]
  },
  {
   "cell_type": "code",
   "execution_count": 13,
   "id": "b9aa6363",
   "metadata": {},
   "outputs": [],
   "source": [
    "pred = test.label\n",
    "actual = test.pred"
   ]
  },
  {
   "cell_type": "code",
   "execution_count": 14,
   "id": "28c3bb76",
   "metadata": {},
   "outputs": [],
   "source": [
    "from sklearn.metrics import confusion_matrix,classification_report\n"
   ]
  },
  {
   "cell_type": "code",
   "execution_count": 15,
   "id": "8534ed56",
   "metadata": {},
   "outputs": [
    {
     "name": "stdout",
     "output_type": "stream",
     "text": [
      "              precision    recall  f1-score   support\n",
      "\n",
      "           0       0.83      0.99      0.90       420\n",
      "           1       0.99      0.85      0.91       579\n",
      "\n",
      "    accuracy                           0.91       999\n",
      "   macro avg       0.91      0.92      0.91       999\n",
      "weighted avg       0.92      0.91      0.91       999\n",
      "\n"
     ]
    }
   ],
   "source": [
    "print(classification_report(actual, pred))"
   ]
  },
  {
   "cell_type": "code",
   "execution_count": 37,
   "id": "a2748e8b",
   "metadata": {},
   "outputs": [
    {
     "data": {
      "image/png": "[encoded data removed]",
      "text/plain": [
       "<Figure size 432x288 with 2 Axes>"
      ]
     },
     "metadata": {},
     "output_type": "display_data"
    }
   ],
   "source": [
    "ct = pd.crosstab(actual, pred)\n",
    "\n",
    "pl = ct.plot(kind=\"pie\",subplots=True, stacked=False, rot=1)"
   ]
  },
  {
   "cell_type": "code",
   "execution_count": null,
   "id": "7f757625",
   "metadata": {},
   "outputs": [],
   "source": []
  },
  {
   "cell_type": "code",
   "execution_count": null,
   "id": "c9281c84",
   "metadata": {},
   "outputs": [],
   "source": []
  },
  {
   "cell_type": "code",
   "execution_count": null,
   "id": "6457d587",
   "metadata": {},
   "outputs": [],
   "source": []
  },
  {
   "cell_type": "code",
   "execution_count": null,
   "id": "c1743383",
   "metadata": {},
   "outputs": [],
   "source": []
  },
  {
   "cell_type": "code",
   "execution_count": null,
   "id": "d7cb4285",
   "metadata": {},
   "outputs": [],
   "source": []
  }
 ],
 "metadata": {
  "kernelspec": {
   "display_name": "Python 3 (ipykernel)",
   "language": "python",
   "name": "python3"
  },
  "language_info": {
   "codemirror_mode": {
    "name": "ipython",
    "version": 3
   },
   "file_extension": ".py",
   "mimetype": "text/x-python",
   "name": "python",
   "nbconvert_exporter": "python",
   "pygments_lexer": "ipython3",
   "version": "3.8.10"
  }
 },
 "nbformat": 4,
 "nbformat_minor": 5
}
